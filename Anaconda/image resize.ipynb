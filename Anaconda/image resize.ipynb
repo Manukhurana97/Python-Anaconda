{
 "cells": [
  {
   "cell_type": "code",
   "execution_count": 1,
   "metadata": {},
   "outputs": [],
   "source": [
    "import numpy"
   ]
  },
  {
   "cell_type": "code",
   "execution_count": 2,
   "metadata": {},
   "outputs": [],
   "source": [
    "import cv2"
   ]
  },
  {
   "cell_type": "code",
   "execution_count": 3,
   "metadata": {},
   "outputs": [
    {
     "data": {
      "text/plain": [
       "array([[[19, 15, 10],\n",
       "        [23, 19, 14],\n",
       "        [21, 15,  8],\n",
       "        ...,\n",
       "        [27, 22, 13],\n",
       "        [22, 17,  8],\n",
       "        [23, 18,  9]],\n",
       "\n",
       "       [[17, 13,  8],\n",
       "        [21, 17, 12],\n",
       "        [19, 13,  6],\n",
       "        ...,\n",
       "        [27, 22, 13],\n",
       "        [22, 17,  8],\n",
       "        [24, 19, 10]],\n",
       "\n",
       "       [[17, 14,  6],\n",
       "        [18, 15,  7],\n",
       "        [21, 18, 10],\n",
       "        ...,\n",
       "        [23, 16,  7],\n",
       "        [33, 26, 17],\n",
       "        [30, 23, 14]],\n",
       "\n",
       "       ...,\n",
       "\n",
       "       [[ 0,  0,  0],\n",
       "        [ 0,  0,  0],\n",
       "        [ 0,  0,  0],\n",
       "        ...,\n",
       "        [ 5,  5,  5],\n",
       "        [ 8,  8,  8],\n",
       "        [14, 14, 14]],\n",
       "\n",
       "       [[ 0,  0,  0],\n",
       "        [ 0,  0,  0],\n",
       "        [ 0,  0,  0],\n",
       "        ...,\n",
       "        [ 2,  2,  2],\n",
       "        [ 3,  3,  3],\n",
       "        [ 9,  9,  9]],\n",
       "\n",
       "       [[ 1,  1,  1],\n",
       "        [ 1,  1,  1],\n",
       "        [ 1,  1,  1],\n",
       "        ...,\n",
       "        [ 1,  1,  1],\n",
       "        [ 1,  1,  1],\n",
       "        [ 3,  3,  3]]], dtype=uint8)"
      ]
     },
     "execution_count": 3,
     "metadata": {},
     "output_type": "execute_result"
    }
   ],
   "source": [
    "img=cv2.imread('C:\\\\Users\\\\Manu khurana\\\\anaconda project\\\\galaxy.jpg',1)\n",
    "img"
   ]
  },
  {
   "cell_type": "code",
   "execution_count": 4,
   "metadata": {},
   "outputs": [
    {
     "data": {
      "text/plain": [
       "3"
      ]
     },
     "execution_count": 4,
     "metadata": {},
     "output_type": "execute_result"
    }
   ],
   "source": [
    "img.ndim\n"
   ]
  },
  {
   "cell_type": "code",
   "execution_count": 5,
   "metadata": {},
   "outputs": [
    {
     "data": {
      "text/plain": [
       "(1485, 990, 3)"
      ]
     },
     "execution_count": 5,
     "metadata": {},
     "output_type": "execute_result"
    }
   ],
   "source": [
    "img.shape"
   ]
  },
  {
   "cell_type": "code",
   "execution_count": 6,
   "metadata": {},
   "outputs": [],
   "source": [
    "# resize_image=cv2.resize(img,(1200,600))\n",
    "resize_image=cv2.resize(img,(int(img.shape[0]/2),int(img.shape[1]/2)))\n",
    "cv2.imshow('i',resize_image)\n",
    "cv2.waitKey(2000)\n",
    "cv2.imwrite('Galaxy_resized.jpg',resize_image)\n",
    "cv2.destroyAllWindows()\n",
    "\n",
    "\n"
   ]
  },
  {
   "cell_type": "code",
   "execution_count": null,
   "metadata": {},
   "outputs": [],
   "source": []
  },
  {
   "cell_type": "code",
   "execution_count": null,
   "metadata": {},
   "outputs": [],
   "source": []
  }
 ],
 "metadata": {
  "kernelspec": {
   "display_name": "Python 3",
   "language": "python",
   "name": "python3"
  },
  "language_info": {
   "codemirror_mode": {
    "name": "ipython",
    "version": 3
   },
   "file_extension": ".py",
   "mimetype": "text/x-python",
   "name": "python",
   "nbconvert_exporter": "python",
   "pygments_lexer": "ipython3",
   "version": "3.6.5"
  }
 },
 "nbformat": 4,
 "nbformat_minor": 2
}
