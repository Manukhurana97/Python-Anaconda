{
 "cells": [
  {
   "cell_type": "code",
   "execution_count": 253,
   "metadata": {},
   "outputs": [
    {
     "data": {
      "text/plain": [
       "'https://bokeh.pydata.org/en/latest/docs/user_guide/plotting.html'"
      ]
     },
     "execution_count": 253,
     "metadata": {},
     "output_type": "execute_result"
    }
   ],
   "source": [
    "'''https://bokeh.pydata.org/en/latest/docs/user_guide/plotting.html'''"
   ]
  },
  {
   "cell_type": "code",
   "execution_count": 2,
   "metadata": {},
   "outputs": [],
   "source": [
    "from bokeh.plotting import figure,output_file,show\n",
    "\n",
    "import os\n",
    "\n",
    "\n",
    "plot=figure(plot_width=500,plot_height=500,logo=None)\n",
    "\n",
    "\n",
    "Y=[6,5,4,3,2,1]\n",
    "\n",
    "X=[1,2,3,4,5,6]\n",
    "\n",
    "\n",
    "plot.title.text=\"Temperature and Air Pressure\"\n",
    "\n",
    "plot.title.text_color=\"red\"\n",
    "\n",
    "plot.title.text_font=\"arial\"\n",
    "\n",
    "plot.title_location='above'\n",
    "\n",
    "plot.yaxis.minor_tick_line_color=None# for remove line in y axis\n",
    "\n",
    "plot.xaxis.axis_label='distance'\n",
    "\n",
    "plot.yaxis.axis_label='time'\n",
    "\n",
    "plot.triangle(x=X,y=Y,size=[ i*2 for i in [10,8,6,4,2,5]],alpha=.8, color='red')\n",
    "\n",
    "\n",
    "output_file('bokehcircle.html',mode='inline')\n",
    "\n",
    "show(plot)\n",
    "\n",
    "\n",
    "#os.remove('bokehcircle.html')"
   ]
  },
  {
   "cell_type": "code",
   "execution_count": null,
   "metadata": {},
   "outputs": [],
   "source": [
    "\n",
    "\n"
   ]
  },
  {
   "cell_type": "code",
   "execution_count": 3,
   "metadata": {},
   "outputs": [],
   "source": [
    "from bokeh.plotting import figure,output_file,show\n",
    "\n",
    "import pandas\n",
    "\n",
    "import os\n",
    "\n",
    "\n",
    "df=pandas.read_excel('verlegenhuken.xlsx')\n",
    "\n",
    "\n",
    "df[\"Temperature\"]=df[\"Temperature\"]/10\n",
    "\n",
    "df[\"Pressure\"]=df[\"Pressure\"]/10\n",
    "\n",
    "\n",
    "plot=figure(plot_width=1320,plot_height=660,logo=None,tools='pan,reset')\n",
    "\n",
    "plot.title.text=\"Temparature and Pressure\"\n",
    "\n",
    "plot.xaxis.axis_label='temperature'\n",
    "\n",
    "plot.yaxis.axis_label='Pressure'\n",
    "\n",
    "plot.circle(df['Temperature'], df['Pressure'], size=.5, alpha=.9)\n",
    "\n",
    "\n",
    "output_file('bokehpandas1.html')\n",
    "\n",
    "show(plot)\n",
    "\n",
    "\n",
    "#os.remove('bokehcircle.html')"
   ]
  },
  {
   "cell_type": "code",
   "execution_count": 256,
   "metadata": {},
   "outputs": [],
   "source": [
    "\n"
   ]
  },
  {
   "cell_type": "code",
   "execution_count": null,
   "metadata": {},
   "outputs": [],
   "source": []
  }
 ],
 "metadata": {
  "kernelspec": {
   "display_name": "Python 3",
   "language": "python",
   "name": "python3"
  },
  "language_info": {
   "codemirror_mode": {
    "name": "ipython",
    "version": 3
   },
   "file_extension": ".py",
   "mimetype": "text/x-python",
   "name": "python",
   "nbconvert_exporter": "python",
   "pygments_lexer": "ipython3",
   "version": "3.6.5"
  }
 },
 "nbformat": 4,
 "nbformat_minor": 2
}
