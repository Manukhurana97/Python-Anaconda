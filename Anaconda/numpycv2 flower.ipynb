{
 "cells": [
  {
   "cell_type": "code",
   "execution_count": 1,
   "metadata": {},
   "outputs": [],
   "source": [
    "import numpy"
   ]
  },
  {
   "cell_type": "code",
   "execution_count": 2,
   "metadata": {},
   "outputs": [],
   "source": [
    "import cv2"
   ]
  },
  {
   "cell_type": "code",
   "execution_count": 3,
   "metadata": {},
   "outputs": [
    {
     "data": {
      "text/plain": [
       "array([[ 47,  50,  55, ...,  51,  51,  51],\n",
       "       [ 43,  46,  52, ...,  52,  52,  52],\n",
       "       [ 39,  42,  47, ...,  55,  55,  55],\n",
       "       ...,\n",
       "       [ 45,  46,  48, ..., 104, 104, 103],\n",
       "       [ 44,  45,  47, ..., 105, 105, 104],\n",
       "       [ 43,  44,  46, ..., 106, 106, 107]], dtype=uint8)"
      ]
     },
     "execution_count": 3,
     "metadata": {},
     "output_type": "execute_result"
    }
   ],
   "source": [
    "img=cv2.imread('C:\\\\Users\\\\Manu khurana\\\\Downloads\\\\download.jpg',0) # use to read the image\n",
    "img"
   ]
  },
  {
   "cell_type": "code",
   "execution_count": 4,
   "metadata": {},
   "outputs": [
    {
     "data": {
      "text/plain": [
       "True"
      ]
     },
     "execution_count": 4,
     "metadata": {},
     "output_type": "execute_result"
    }
   ],
   "source": [
    "cv2.imwrite('flower.jpg',img) # used to create copy of image"
   ]
  },
  {
   "cell_type": "code",
   "execution_count": 5,
   "metadata": {},
   "outputs": [
    {
     "data": {
      "text/plain": [
       "array([[55, 62, 70]], dtype=uint8)"
      ]
     },
     "execution_count": 5,
     "metadata": {},
     "output_type": "execute_result"
    }
   ],
   "source": [
    "img[0:1,2:5]"
   ]
  },
  {
   "cell_type": "code",
   "execution_count": 6,
   "metadata": {},
   "outputs": [
    {
     "name": "stdout",
     "output_type": "stream",
     "text": [
      "[ 47  50  55 ... 106 106 107]\n"
     ]
    }
   ],
   "source": [
    "imh=numpy.hstack(img)\n",
    "print(imh)"
   ]
  },
  {
   "cell_type": "code",
   "execution_count": 7,
   "metadata": {},
   "outputs": [
    {
     "name": "stdout",
     "output_type": "stream",
     "text": [
      "[[ 47  50  55 ...  51  51  51]\n",
      " [ 43  46  52 ...  52  52  52]\n",
      " [ 39  42  47 ...  55  55  55]\n",
      " ...\n",
      " [ 45  46  48 ... 104 104 103]\n",
      " [ 44  45  47 ... 105 105 104]\n",
      " [ 43  44  46 ... 106 106 107]]\n"
     ]
    }
   ],
   "source": [
    "imv=numpy.vstack(img)\n",
    "print(imv)"
   ]
  }
 ],
 "metadata": {
  "kernelspec": {
   "display_name": "Python 3",
   "language": "python",
   "name": "python3"
  },
  "language_info": {
   "codemirror_mode": {
    "name": "ipython",
    "version": 3
   },
   "file_extension": ".py",
   "mimetype": "text/x-python",
   "name": "python",
   "nbconvert_exporter": "python",
   "pygments_lexer": "ipython3",
   "version": "3.6.5"
  }
 },
 "nbformat": 4,
 "nbformat_minor": 2
}
